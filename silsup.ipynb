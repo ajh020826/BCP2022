{
  "nbformat": 4,
  "nbformat_minor": 0,
  "metadata": {
    "colab": {
      "name": "silsup.ipynb",
      "provenance": [],
      "authorship_tag": "ABX9TyNUDwwRERT5ghwJ6wclOxNL",
      "include_colab_link": true
    },
    "kernelspec": {
      "name": "python3",
      "display_name": "Python 3"
    },
    "language_info": {
      "name": "python"
    }
  },
  "cells": [
    {
      "cell_type": "markdown",
      "metadata": {
        "id": "view-in-github",
        "colab_type": "text"
      },
      "source": [
        "<a href=\"https://colab.research.google.com/github/ajh020826/BCP2022/blob/main/silsup.ipynb\" target=\"_parent\"><img src=\"https://colab.research.google.com/assets/colab-badge.svg\" alt=\"Open In Colab\"/></a>"
      ]
    },
    {
      "cell_type": "markdown",
      "source": [
        "# 인삿말 하기"
      ],
      "metadata": {
        "id": "arKN8bm4lMvu"
      }
    },
    {
      "cell_type": "code",
      "execution_count": 6,
      "metadata": {
        "colab": {
          "base_uri": "https://localhost:8080/"
        },
        "id": "TrqpWAhyk1dZ",
        "outputId": "986210cd-f373-439c-f7d8-181a77867502"
      },
      "outputs": [
        {
          "output_type": "stream",
          "name": "stdout",
          "text": [
            "00님, 안녕하세요?\n"
          ]
        }
      ],
      "source": [
        "print (\"00님, 안녕하세요?\")"
      ]
    },
    {
      "cell_type": "markdown",
      "source": [
        "# 작별 인사하기"
      ],
      "metadata": {
        "id": "02Sd7cnwlXH9"
      }
    },
    {
      "cell_type": "code",
      "source": [
        "print (\"안녕히 계세요..\")"
      ],
      "metadata": {
        "colab": {
          "base_uri": "https://localhost:8080/"
        },
        "id": "TlNgzo9dlAd8",
        "outputId": "396522ea-cf85-4c86-93aa-d0b217c3fd97"
      },
      "execution_count": 7,
      "outputs": [
        {
          "output_type": "stream",
          "name": "stdout",
          "text": [
            "안녕히 계세요..\n"
          ]
        }
      ]
    }
  ]
}
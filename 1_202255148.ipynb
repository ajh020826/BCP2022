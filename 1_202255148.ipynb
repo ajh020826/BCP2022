{
  "nbformat": 4,
  "nbformat_minor": 0,
  "metadata": {
    "colab": {
      "name": "1-202255148.ipynb",
      "provenance": [],
      "authorship_tag": "ABX9TyPpaDtJE3YWrClH3hit2FWL",
      "include_colab_link": true
    },
    "kernelspec": {
      "name": "python3",
      "display_name": "Python 3"
    },
    "language_info": {
      "name": "python"
    }
  },
  "cells": [
    {
      "cell_type": "markdown",
      "metadata": {
        "id": "view-in-github",
        "colab_type": "text"
      },
      "source": [
        "<a href=\"https://colab.research.google.com/github/ajh020826/BCP2022/blob/main/1_202255148.ipynb\" target=\"_parent\"><img src=\"https://colab.research.google.com/assets/colab-badge.svg\" alt=\"Open In Colab\"/></a>"
      ]
    },
    {
      "cell_type": "code",
      "execution_count": 9,
      "metadata": {
        "colab": {
          "base_uri": "https://localhost:8080/"
        },
        "id": "TO_e1JQVUV-Q",
        "outputId": "2769a09c-5bd5-4738-a358-7647548c6b21"
      },
      "outputs": [
        {
          "output_type": "stream",
          "name": "stdout",
          "text": [
            "섭씨 온도를 입력하시오: 24.5\n",
            "섭씨 24.5도는 화씨 76.1도이다.\n"
          ]
        }
      ],
      "source": [
        "C = float(input('섭씨 온도를 입력하시오: '))\n",
        "F = C*9/5+32\n",
        "print(f\"섭씨 {C}도는 화씨 {F}도이다.\")"
      ]
    }
  ]
}